{
 "metadata": {
  "name": "reflow"
 },
 "nbformat": 3,
 "nbformat_minor": 0,
 "worksheets": [
  {
   "cells": [
    {
     "cell_type": "code",
     "collapsed": false,
     "input": [
      "token = u'321c31192faff4d7785c70614bc9ee4210dc77bf'"
     ],
     "language": "python",
     "metadata": {},
     "outputs": [],
     "prompt_number": 3
    },
    {
     "cell_type": "code",
     "collapsed": false,
     "input": [
      "host = 'ec2-54-235-41-234.compute-1.amazonaws.com'"
     ],
     "language": "python",
     "metadata": {},
     "outputs": [],
     "prompt_number": 4
    },
    {
     "cell_type": "code",
     "collapsed": false,
     "input": [
      "import utils as rest"
     ],
     "language": "python",
     "metadata": {},
     "outputs": [],
     "prompt_number": 5
    },
    {
     "cell_type": "code",
     "collapsed": false,
     "input": [
      "samples = rest.get_samples(host, token)"
     ],
     "language": "python",
     "metadata": {},
     "outputs": [],
     "prompt_number": 15
    },
    {
     "cell_type": "code",
     "collapsed": false,
     "input": [
      "samples.keys()"
     ],
     "language": "python",
     "metadata": {},
     "outputs": [
      {
       "output_type": "pyout",
       "prompt_number": 16,
       "text": [
        "['status', 'reason', 'data']"
       ]
      }
     ],
     "prompt_number": 16
    },
    {
     "cell_type": "code",
     "collapsed": false,
     "input": [
      "data = samples['data']"
     ],
     "language": "python",
     "metadata": {},
     "outputs": [],
     "prompt_number": 17
    },
    {
     "cell_type": "code",
     "collapsed": false,
     "input": [
      "len(data)"
     ],
     "language": "python",
     "metadata": {},
     "outputs": [
      {
       "output_type": "pyout",
       "prompt_number": 18,
       "text": [
        "324"
       ]
      }
     ],
     "prompt_number": 18
    },
    {
     "cell_type": "code",
     "collapsed": false,
     "input": [
      "data[0]"
     ],
     "language": "python",
     "metadata": {},
     "outputs": [
      {
       "output_type": "pyout",
       "prompt_number": 19,
       "text": [
        "{u'compensations': [{u'compensation': {u'id': 1,\n",
        "    u'matrix_text': u'4cICSEP3_EOLm001CMm\\n<\\t>\\nAPC-A\\tFITC-A\\tPE-A\\tPerCP-Cy5-5-A\\n1\\t0\\t0\\t0.01222\\n0\\t1\\t0.1\\t0.01806\\n-0.06\\t0.01\\t1\\t0.265\\n0.05133\\t0\\t0\\t1\\nOriginal\\n1\\t0\\t0\\t0.01222\\n0\\t1\\t0.2567\\t0.01806\\n0\\t3.929e-3\\t1\\t0.09225\\n0.05133\\t0\\t0\\t1',\n",
        "    u'original_filename': u'4cICSEP3_EOLm001CMm'},\n",
        "   u'id': 324}],\n",
        " u'id': 1,\n",
        " u'original_filename': u'001_F6901PRY_21_C10_C10.fcs',\n",
        " u'project': 1,\n",
        " u'sampleparameters': [{u'fcs_number': 11,\n",
        "   u'fcs_opt_text': u'',\n",
        "   u'fcs_text': u'Time',\n",
        "   u'id': 1,\n",
        "   u'name': u'Time-T'},\n",
        "  {u'fcs_number': 10,\n",
        "   u'fcs_opt_text': u'CD3',\n",
        "   u'fcs_text': u'APC-A',\n",
        "   u'id': 2,\n",
        "   u'name': u'CD3-APC-A'},\n",
        "  {u'fcs_number': 1,\n",
        "   u'fcs_opt_text': u'',\n",
        "   u'fcs_text': u'FSC-A',\n",
        "   u'id': 3,\n",
        "   u'name': u'FSC-A'},\n",
        "  {u'fcs_number': 3,\n",
        "   u'fcs_opt_text': u'',\n",
        "   u'fcs_text': u'FSC-W',\n",
        "   u'id': 4,\n",
        "   u'name': u'FSC-W'},\n",
        "  {u'fcs_number': 2,\n",
        "   u'fcs_opt_text': u'',\n",
        "   u'fcs_text': u'FSC-H',\n",
        "   u'id': 5,\n",
        "   u'name': u'FSC-H'},\n",
        "  {u'fcs_number': 5,\n",
        "   u'fcs_opt_text': u'',\n",
        "   u'fcs_text': u'SSC-H',\n",
        "   u'id': 6,\n",
        "   u'name': u'SSC-H'},\n",
        "  {u'fcs_number': 4,\n",
        "   u'fcs_opt_text': u'',\n",
        "   u'fcs_text': u'SSC-A',\n",
        "   u'id': 7,\n",
        "   u'name': u'SSC-A'},\n",
        "  {u'fcs_number': 7,\n",
        "   u'fcs_opt_text': u'CD4',\n",
        "   u'fcs_text': u'FITC-A',\n",
        "   u'id': 8,\n",
        "   u'name': u'CD4-FITC-A'},\n",
        "  {u'fcs_number': 6,\n",
        "   u'fcs_opt_text': u'',\n",
        "   u'fcs_text': u'SSC-W',\n",
        "   u'id': 9,\n",
        "   u'name': u'SSC-W'},\n",
        "  {u'fcs_number': 9,\n",
        "   u'fcs_opt_text': u'CD8',\n",
        "   u'fcs_text': u'PerCP-Cy5-5-A',\n",
        "   u'id': 10,\n",
        "   u'name': u'CD8-PerCP-Cy5-5-A'},\n",
        "  {u'fcs_number': 8,\n",
        "   u'fcs_opt_text': u'IFN IL2',\n",
        "   u'fcs_text': u'PE-A',\n",
        "   u'id': 11,\n",
        "   u'name': u'IFN-IL2-PE-A'}],\n",
        " u'sha1': u'986d8833130d9c4c2717efc8d2530ff4c95874af',\n",
        " u'site': 1,\n",
        " u'subject': 1,\n",
        " u'url': u'https://ec2-54-235-41-234.compute-1.amazonaws.com/api/samples/1/',\n",
        " u'visit': 1}"
       ]
      }
     ],
     "prompt_number": 19
    },
    {
     "cell_type": "code",
     "collapsed": false,
     "input": [
      "s = rest.download_sample(host, token, sample_pk=1, directory='/Users/cliburn/reflow')"
     ],
     "language": "python",
     "metadata": {},
     "outputs": [],
     "prompt_number": 13
    },
    {
     "cell_type": "code",
     "collapsed": false,
     "input": [
      "compensations = data[1][u'compensations']"
     ],
     "language": "python",
     "metadata": {},
     "outputs": [],
     "prompt_number": 23
    },
    {
     "cell_type": "code",
     "collapsed": false,
     "input": [
      "print compensations[0]['compensation']['matrix_text']"
     ],
     "language": "python",
     "metadata": {},
     "outputs": [
      {
       "output_type": "stream",
       "stream": "stdout",
       "text": [
        "4cICSEP3_EOLm001CMm\n",
        "<\t>\n",
        "APC-A\tFITC-A\tPE-A\tPerCP-Cy5-5-A\n",
        "1\t0\t0\t0.01222\n",
        "0\t1\t0.1\t0.01806\n",
        "-0.06\t0.01\t1\t0.265\n",
        "0.05133\t0\t0\t1\n",
        "Original\n",
        "1\t0\t0\t0.01222\n",
        "0\t1\t0.2567\t0.01806\n",
        "0\t3.929e-3\t1\t0.09225\n",
        "0.05133\t0\t0\t1\n"
       ]
      }
     ],
     "prompt_number": 29
    },
    {
     "cell_type": "code",
     "collapsed": false,
     "input": [
      "[(adict['name'], adict['fcs_number']) for adict in data[0]['sampleparameters'] if adict['name'] in ('CD3-APC-A', 'CD8-PerCP-Cy5-5-A', 'CD4-FITC-A')]"
     ],
     "language": "python",
     "metadata": {},
     "outputs": [
      {
       "output_type": "pyout",
       "prompt_number": 35,
       "text": [
        "[(u'CD3-APC-A', 10), (u'CD4-FITC-A', 7), (u'CD8-PerCP-Cy5-5-A', 9)]"
       ]
      }
     ],
     "prompt_number": 35
    },
    {
     "cell_type": "code",
     "collapsed": false,
     "input": [
      "cm = compensations[0]['compensation']['matrix_text']"
     ],
     "language": "python",
     "metadata": {},
     "outputs": [],
     "prompt_number": 36
    },
    {
     "cell_type": "code",
     "collapsed": false,
     "input": [
      "import fcm"
     ],
     "language": "python",
     "metadata": {},
     "outputs": [],
     "prompt_number": 37
    },
    {
     "cell_type": "code",
     "collapsed": false,
     "input": [
      "open('cm.txt', 'w').write(cm)"
     ],
     "language": "python",
     "metadata": {},
     "outputs": [],
     "prompt_number": 54
    },
    {
     "cell_type": "code",
     "collapsed": false,
     "input": [
      "fcm.load_compensate_matrix('cm.txt')"
     ],
     "language": "python",
     "metadata": {},
     "outputs": [
      {
       "output_type": "pyout",
       "prompt_number": 55,
       "text": [
        "(['APC-A', 'FITC-A', 'PE-A', 'PerCP-Cy5-5-A'],\n",
        " array([[ 1.     ,  0.     ,  0.     ,  0.01222],\n",
        "       [ 0.     ,  1.     ,  0.1    ,  0.01806],\n",
        "       [-0.06   ,  0.01   ,  1.     ,  0.265  ],\n",
        "       [ 0.05133,  0.     ,  0.     ,  1.     ]]))"
       ]
      }
     ],
     "prompt_number": 55
    },
    {
     "cell_type": "code",
     "collapsed": false,
     "input": [],
     "language": "python",
     "metadata": {},
     "outputs": []
    }
   ],
   "metadata": {}
  }
 ]
}